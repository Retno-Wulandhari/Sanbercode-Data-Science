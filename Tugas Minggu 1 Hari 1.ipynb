{
 "cells": [
  {
   "cell_type": "code",
   "execution_count": 3,
   "id": "b91db485-c2ce-4076-b0d2-44b2558f0121",
   "metadata": {},
   "outputs": [],
   "source": [
    "# 1. Hello Word to Python"
   ]
  },
  {
   "cell_type": "code",
   "execution_count": 4,
   "id": "c81fda9d-2cf9-41c2-982b-552f2556f6fc",
   "metadata": {},
   "outputs": [
    {
     "name": "stdout",
     "output_type": "stream",
     "text": [
      "Hello Word to Python\n"
     ]
    }
   ],
   "source": [
    "print('Hello Word to Python')"
   ]
  },
  {
   "cell_type": "code",
   "execution_count": null,
   "id": "d2878325-2a08-4dac-a273-66b72421bc10",
   "metadata": {},
   "outputs": [],
   "source": [
    "# 2. Aritmatika di Python"
   ]
  },
  {
   "cell_type": "code",
   "execution_count": 1,
   "id": "3d55ef2e-bf58-4ced-a14b-bf182ff0b2e4",
   "metadata": {},
   "outputs": [
    {
     "name": "stdout",
     "output_type": "stream",
     "text": [
      "25\n",
      "15\n",
      "100\n",
      "4.0\n"
     ]
    }
   ],
   "source": [
    "a = 20\n",
    "b = 5\n",
    "c = a+b\n",
    "d = a-b\n",
    "e = a*b\n",
    "f = a/b\n",
    "\n",
    "print(c)\n",
    "print(d)\n",
    "print(e)\n",
    "print(f)"
   ]
  },
  {
   "cell_type": "code",
   "execution_count": null,
   "id": "e5165f1c-41d3-4164-955d-0e19b6c2c358",
   "metadata": {},
   "outputs": [],
   "source": [
    "# 3. Assign Variable dan Tipe Data Integer, Float"
   ]
  },
  {
   "cell_type": "code",
   "execution_count": 16,
   "id": "a11aedde-9d6c-485b-ad34-8c1c782b7f3a",
   "metadata": {},
   "outputs": [
    {
     "name": "stdout",
     "output_type": "stream",
     "text": [
      "3\n"
     ]
    },
    {
     "data": {
      "text/plain": [
       "int"
      ]
     },
     "execution_count": 16,
     "metadata": {},
     "output_type": "execute_result"
    }
   ],
   "source": [
    "a = 12\n",
    "b = 4\n",
    "c = 17\n",
    "d = int(a/b)\n",
    "e = float(c/b)\n",
    "\n",
    "print(d)\n",
    "type(d)"
   ]
  },
  {
   "cell_type": "code",
   "execution_count": 17,
   "id": "289f4e2f-70f2-4328-82ff-422831a11baf",
   "metadata": {},
   "outputs": [
    {
     "name": "stdout",
     "output_type": "stream",
     "text": [
      "4.25\n"
     ]
    },
    {
     "data": {
      "text/plain": [
       "float"
      ]
     },
     "execution_count": 17,
     "metadata": {},
     "output_type": "execute_result"
    }
   ],
   "source": [
    "print(e)\n",
    "type(e)"
   ]
  },
  {
   "cell_type": "code",
   "execution_count": null,
   "id": "499d0370-bf5f-45d4-a9e6-f96f8da0cc24",
   "metadata": {},
   "outputs": [],
   "source": [
    "# 4. String Operation"
   ]
  },
  {
   "cell_type": "code",
   "execution_count": 11,
   "id": "0b0501a4-8d4a-4fde-b972-07d4cd376d50",
   "metadata": {},
   "outputs": [
    {
     "name": "stdout",
     "output_type": "stream",
     "text": [
      "Hello sanbercode, saya Retno wulandari! saya siap belajar python data science dasar\n"
     ]
    }
   ],
   "source": [
    "firstname = 'Retno'\n",
    "lastname = 'wulandari'\n",
    "\n",
    "print(f'Hello sanbercode, saya {firstname} {lastname}! saya siap belajar python data science dasar')"
   ]
  },
  {
   "cell_type": "code",
   "execution_count": null,
   "id": "4d77cab7-9173-45c5-9243-09aa712f2601",
   "metadata": {},
   "outputs": [],
   "source": [
    "# 5. Tipe Data"
   ]
  },
  {
   "cell_type": "code",
   "execution_count": 14,
   "id": "80167d08-b4fb-4078-886f-d500ffa9667f",
   "metadata": {},
   "outputs": [
    {
     "name": "stdout",
     "output_type": "stream",
     "text": [
      "usiaku : 30 tahun\n"
     ]
    }
   ],
   "source": [
    "usia = 30\n",
    "kata = 'usiaku : '\n",
    "\n",
    "print(kata + str(usia) + ' tahun')"
   ]
  }
 ],
 "metadata": {
  "kernelspec": {
   "display_name": "Python 3 (ipykernel)",
   "language": "python",
   "name": "python3"
  },
  "language_info": {
   "codemirror_mode": {
    "name": "ipython",
    "version": 3
   },
   "file_extension": ".py",
   "mimetype": "text/x-python",
   "name": "python",
   "nbconvert_exporter": "python",
   "pygments_lexer": "ipython3",
   "version": "3.12.3"
  }
 },
 "nbformat": 4,
 "nbformat_minor": 5
}
